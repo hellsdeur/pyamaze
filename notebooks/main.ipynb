{
 "cells": [
  {
   "cell_type": "code",
   "execution_count": 1,
   "metadata": {},
   "outputs": [
    {
     "data": {
      "text/plain": [
       "True"
      ]
     },
     "execution_count": 1,
     "metadata": {},
     "output_type": "execute_result"
    }
   ],
   "source": [
    "from utils import setrootdir\n",
    "\n",
    "setrootdir(\"pyamaze\")"
   ]
  },
  {
   "cell_type": "code",
   "execution_count": 2,
   "metadata": {},
   "outputs": [],
   "source": [
    "from src.pyamaze import maze, agent, textLabel, COLOR\n",
    "\n",
    "from src.DFS import DFS\n",
    "from src.BFS import BFS\n",
    "from src.dijkstraMaze import dijkstra\n",
    "from src.aStar import aStar"
   ]
  },
  {
   "cell_type": "markdown",
   "metadata": {},
   "source": [
    "# Maze"
   ]
  },
  {
   "cell_type": "code",
   "execution_count": 3,
   "metadata": {},
   "outputs": [],
   "source": [
    "dim = 15\n",
    "m = maze(dim)\n",
    "m.CreateMaze(loopPercent=25, saveMaze=True)\n",
    "m.run()"
   ]
  },
  {
   "cell_type": "markdown",
   "metadata": {},
   "source": [
    "# Breadth-First Search"
   ]
  },
  {
   "cell_type": "code",
   "execution_count": 4,
   "metadata": {},
   "outputs": [],
   "source": [
    "m = maze()\n",
    "m.CreateMaze(loadMaze=\"./data/maze.csv\")\n",
    "\n",
    "path = BFS(m)\n",
    "\n",
    "a = agent(m, footprints=True)\n",
    "m.tracePath({a:path})\n",
    "l = textLabel(m, 'BFS Length', len(path)+1)\n",
    "\n",
    "m.run()"
   ]
  },
  {
   "cell_type": "markdown",
   "metadata": {},
   "source": [
    "# Depth-First Search"
   ]
  },
  {
   "cell_type": "code",
   "execution_count": 5,
   "metadata": {},
   "outputs": [],
   "source": [
    "m = maze()\n",
    "m.CreateMaze(loadMaze=\"./data/maze.csv\")\n",
    "\n",
    "path = DFS(m)\n",
    "\n",
    "a = agent(m, footprints=True)\n",
    "m.tracePath({a:path})\n",
    "l = textLabel(m, 'DFS Length', len(path)+1)\n",
    "\n",
    "m.run()"
   ]
  },
  {
   "cell_type": "markdown",
   "metadata": {},
   "source": [
    "# Uniform-Cost Search"
   ]
  },
  {
   "cell_type": "code",
   "execution_count": 6,
   "metadata": {},
   "outputs": [],
   "source": [
    "m = maze()\n",
    "m.CreateMaze(loadMaze=\"./data/maze.csv\")\n",
    "\n",
    "h1 = agent(m, round(dim/2), 1, color=COLOR.red)\n",
    "h2 = agent(m, round(dim/2), round(dim*0.25), color=COLOR.red)\n",
    "h3 = agent(m, round(dim/2), round(dim*0.5), color=COLOR.red)\n",
    "h4 = agent(m, round(dim/2), round(dim*0.75), color=COLOR.red)\n",
    "h5 = agent(m, round(dim/2), dim, color=COLOR.red)\n",
    "\n",
    "h1.cost = 10\n",
    "h2.cost = 20\n",
    "h3.cost = 60\n",
    "h4.cost = 80\n",
    "h5.cost = 100\n",
    "\n",
    "path, c = dijkstra(m, h1, h2, h3, h4, h5, start=(dim, dim))\n",
    "textLabel(m, 'Total Cost', c)\n",
    "\n",
    "a = agent(m, dim, dim, color=COLOR.cyan, footprints=True)\n",
    "m.tracePath({a:path})\n",
    "\n",
    "m.run()"
   ]
  },
  {
   "cell_type": "markdown",
   "metadata": {},
   "source": [
    "# A-Star"
   ]
  },
  {
   "cell_type": "code",
   "execution_count": 7,
   "metadata": {},
   "outputs": [],
   "source": [
    "m = maze()\n",
    "m.CreateMaze(loadMaze=\"./data/maze.csv\")\n",
    "\n",
    "path = aStar(m)\n",
    "\n",
    "a = agent(m, footprints=True)\n",
    "m.tracePath({a:path})\n",
    "l = textLabel(m, 'A Star Path Length', len(path)+1)\n",
    "\n",
    "m.run()"
   ]
  }
 ],
 "metadata": {
  "kernelspec": {
   "display_name": "env",
   "language": "python",
   "name": "python3"
  },
  "language_info": {
   "codemirror_mode": {
    "name": "ipython",
    "version": 3
   },
   "file_extension": ".py",
   "mimetype": "text/x-python",
   "name": "python",
   "nbconvert_exporter": "python",
   "pygments_lexer": "ipython3",
   "version": "3.11.5"
  }
 },
 "nbformat": 4,
 "nbformat_minor": 2
}
