{
 "cells": [
  {
   "cell_type": "markdown",
   "metadata": {},
   "source": [
    "# Maze search demonstration"
   ]
  },
  {
   "cell_type": "markdown",
   "metadata": {},
   "source": [
    "In this document, we will explore and implement four fundamental search strategies: Breadth-First Search (BFS), Depth-First Search (DFS), Uniform Cost Search (UCS), and A-Star Search. Those will be used to solve the maze problem.\n",
    "\n",
    "## The Maze Problem:\n",
    "\n",
    "Imagine you are in a maze, seeking the shortest path from a designated start point to a predetermined goal. Each cell in the maze represents a state, and you can move from one cell to another through valid adjacent paths. The goal is to navigate through the maze efficiently, finding the shortest path from the start to the goal.\n",
    "\n",
    "## Search Strategies:\n",
    "\n",
    "- **Breadth-First Search (BFS):**\n",
    "  - Explores all neighbor nodes at the present depth before moving on to nodes at the next depth level.\n",
    "  - Guarantees the shortest path in terms of the number of edges traversed.\n",
    "\n",
    "- **Depth-First Search (DFS):**\n",
    "  - Explores as far as possible along each branch before backtracking.\n",
    "  - May not find the shortest path and can get stuck in infinite loops if not properly implemented.\n",
    "\n",
    "- **Uniform Cost Search (UCS):**\n",
    "  - Expands nodes with the least total cost from the start node.\n",
    "  - Guarantees the optimal path in terms of the total cost.\n",
    "\n",
    "- **A-Star Search:**\n",
    "  - Utilizes both the cost to reach the current node from the start and an estimate of the cost to reach the goal from the current node (heuristic).\n",
    "  - Heuristic guides the search towards the most promising paths, potentially leading to faster convergence.\n",
    "\n",
    "Now, let's dive into the implementation of these search algorithms and witness how they perform in solving the maze problem."
   ]
  },
  {
   "cell_type": "markdown",
   "metadata": {},
   "source": [
    "The first cell sets the working directory to the root of the project, facilitating the access to the src folder."
   ]
  },
  {
   "cell_type": "code",
   "execution_count": null,
   "metadata": {},
   "outputs": [],
   "source": [
    "from utils import setrootdir\n",
    "\n",
    "setrootdir(\"pyamaze\")"
   ]
  },
  {
   "cell_type": "markdown",
   "metadata": {},
   "source": [
    "Then, let's import pyamaze's building blocks and the algorithms to be demonstrated."
   ]
  },
  {
   "cell_type": "code",
   "execution_count": null,
   "metadata": {},
   "outputs": [],
   "source": [
    "from src.pyamaze import maze, agent, textLabel, COLOR\n",
    "\n",
    "from src.DFS import DFS\n",
    "from src.BFS import BFS\n",
    "from src.dijkstraMaze import dijkstra\n",
    "from src.aStar import aStar"
   ]
  },
  {
   "cell_type": "markdown",
   "metadata": {},
   "source": [
    "# Maze"
   ]
  },
  {
   "cell_type": "markdown",
   "metadata": {},
   "source": [
    "Firstly, let's initialize a maze object with a given dimension, create a maze using the CreateMaze method, setting a loop density of approximately 25% and opting to save the maze in a csv file placed in directory `data`. After generating the maze, it the run method shows the empty maze."
   ]
  },
  {
   "cell_type": "code",
   "execution_count": null,
   "metadata": {},
   "outputs": [],
   "source": [
    "dim = 15\n",
    "m = maze(dim)\n",
    "m.CreateMaze(loopPercent=25, saveMaze=True)\n",
    "m.run()"
   ]
  },
  {
   "cell_type": "markdown",
   "metadata": {},
   "source": [
    "The csv file will be used for all the following mazes created in each demonstration."
   ]
  },
  {
   "cell_type": "markdown",
   "metadata": {},
   "source": [
    "# Breadth-First Search"
   ]
  },
  {
   "cell_type": "markdown",
   "metadata": {},
   "source": [
    "Initially, a maze object `m` is instantiated, followed by the creation of a maze using the CreateMaze method, which loads a previously saved maze from the file `./data/maze.csv`. Subsequently, the BFS algorithm is applied to find a path through the maze, and the resulting path is stored in the variable `path`. An agent object `a` is then created with the option to leave footprints on the maze (`footprints=True`). The path traced by the agent is displayed on the maze using the tracePath method. Additionally, a text label `l` is created to indicate the length of the BFS path. Finally, the run method is invoked to show the maze-solving process, displaying the solved maze with the BFS path and the length of the path."
   ]
  },
  {
   "cell_type": "code",
   "execution_count": null,
   "metadata": {},
   "outputs": [],
   "source": [
    "m = maze()\n",
    "m.CreateMaze(loadMaze=\"./data/maze.csv\")\n",
    "\n",
    "path = BFS(m)\n",
    "\n",
    "a = agent(m, footprints=True)\n",
    "m.tracePath({a:path})\n",
    "l = textLabel(m, 'BFS Length', len(path)+1)\n",
    "\n",
    "m.run()"
   ]
  },
  {
   "cell_type": "markdown",
   "metadata": {},
   "source": [
    "# Depth-First Search"
   ]
  },
  {
   "cell_type": "markdown",
   "metadata": {},
   "source": [
    "Likewise, the DFS algorithm is then utilized to find a path through the maze."
   ]
  },
  {
   "cell_type": "code",
   "execution_count": null,
   "metadata": {},
   "outputs": [],
   "source": [
    "m = maze()\n",
    "m.CreateMaze(loadMaze=\"./data/maze.csv\")\n",
    "\n",
    "path = DFS(m)\n",
    "\n",
    "a = agent(m, footprints=True)\n",
    "m.tracePath({a:path})\n",
    "l = textLabel(m, 'DFS Length', len(path)+1)\n",
    "\n",
    "m.run()"
   ]
  },
  {
   "cell_type": "markdown",
   "metadata": {},
   "source": [
    "# Uniform-Cost Search"
   ]
  },
  {
   "cell_type": "markdown",
   "metadata": {},
   "source": [
    "In the same manner, the Dijsktra Algorithm aims to traverse the maze in a scenario where the path's cost matter. Five agents `h1` to `h5` are instantiated with distinct positions along the horizontal axis of the maze, marked in red. Each agent is assigned a specific cost representing the expense of traversing through cells. The Dijkstra algorithm is then applied to calculate the optimal path and total cost `c` for the agents to reach their respective destinations."
   ]
  },
  {
   "cell_type": "code",
   "execution_count": null,
   "metadata": {},
   "outputs": [],
   "source": [
    "m = maze()\n",
    "m.CreateMaze(loadMaze=\"./data/maze.csv\")\n",
    "\n",
    "# five cost agents equally placed along the center of the maze\n",
    "h1 = agent(m, round(dim/2), 1, color=COLOR.red)\n",
    "h2 = agent(m, round(dim/2), round(dim*0.25), color=COLOR.red)\n",
    "h3 = agent(m, round(dim/2), round(dim*0.5), color=COLOR.red)\n",
    "h4 = agent(m, round(dim/2), round(dim*0.75), color=COLOR.red)\n",
    "h5 = agent(m, round(dim/2), dim, color=COLOR.red)\n",
    "\n",
    "h1.cost = 10\n",
    "h2.cost = 20\n",
    "h3.cost = 60\n",
    "h4.cost = 80\n",
    "h5.cost = 100\n",
    "\n",
    "path, c = dijkstra(m, h1, h2, h3, h4, h5, start=(dim, dim))\n",
    "textLabel(m, 'Total Cost', c)\n",
    "\n",
    "a = agent(m, dim, dim, color=COLOR.cyan, footprints=True)\n",
    "m.tracePath({a:path})\n",
    "\n",
    "m.run()"
   ]
  },
  {
   "cell_type": "markdown",
   "metadata": {},
   "source": [
    "# A-Star"
   ]
  },
  {
   "cell_type": "markdown",
   "metadata": {},
   "source": [
    "Lastly, the A* search algorithm finds the optimal path through a maze."
   ]
  },
  {
   "cell_type": "code",
   "execution_count": null,
   "metadata": {},
   "outputs": [],
   "source": [
    "m = maze()\n",
    "m.CreateMaze(loadMaze=\"./data/maze.csv\")\n",
    "\n",
    "path = aStar(m)\n",
    "\n",
    "a = agent(m, footprints=True)\n",
    "m.tracePath({a:path})\n",
    "l = textLabel(m, 'A Star Path Length', len(path)+1)\n",
    "\n",
    "m.run()"
   ]
  }
 ],
 "metadata": {
  "kernelspec": {
   "display_name": "env",
   "language": "python",
   "name": "python3"
  },
  "language_info": {
   "codemirror_mode": {
    "name": "ipython",
    "version": 3
   },
   "file_extension": ".py",
   "mimetype": "text/x-python",
   "name": "python",
   "nbconvert_exporter": "python",
   "pygments_lexer": "ipython3",
   "version": "3.11.5"
  }
 },
 "nbformat": 4,
 "nbformat_minor": 2
}
